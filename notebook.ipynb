{
 "cells": [
  {
   "cell_type": "code",
   "execution_count": 2,
   "source": [
    "from transformers import GPTNeoForCausalLM\n",
    "from src import GPTContext\n",
    "\n",
    "try:\n",
    "    ctx  # type: ignore\n",
    "except:\n",
    "    ctx = GPTContext.create(GPTNeoForCausalLM, \"EleutherAI/gpt-neo-1.3B\")\n"
   ],
   "outputs": [
    {
     "output_type": "error",
     "ename": "ImportError",
     "evalue": "cannot import name 'GPTContext' from 'lib' (unknown location)",
     "traceback": [
      "\u001b[1;31m---------------------------------------------------------------------------\u001b[0m",
      "\u001b[1;31mImportError\u001b[0m                               Traceback (most recent call last)",
      "\u001b[1;32m~\\AppData\\Local\\Temp/ipykernel_20780/1962081159.py\u001b[0m in \u001b[0;36m<module>\u001b[1;34m\u001b[0m\n\u001b[0;32m      1\u001b[0m \u001b[1;32mfrom\u001b[0m \u001b[0mtransformers\u001b[0m \u001b[1;32mimport\u001b[0m \u001b[0mGPTNeoForCausalLM\u001b[0m\u001b[1;33m\u001b[0m\u001b[1;33m\u001b[0m\u001b[0m\n\u001b[1;32m----> 2\u001b[1;33m \u001b[1;32mfrom\u001b[0m \u001b[0mlib\u001b[0m \u001b[1;32mimport\u001b[0m \u001b[0mGPTContext\u001b[0m\u001b[1;33m\u001b[0m\u001b[1;33m\u001b[0m\u001b[0m\n\u001b[0m\u001b[0;32m      3\u001b[0m \u001b[1;33m\u001b[0m\u001b[0m\n\u001b[0;32m      4\u001b[0m \u001b[1;32mtry\u001b[0m\u001b[1;33m:\u001b[0m\u001b[1;33m\u001b[0m\u001b[1;33m\u001b[0m\u001b[0m\n\u001b[0;32m      5\u001b[0m     \u001b[0mctx\u001b[0m  \u001b[1;31m# type: ignore\u001b[0m\u001b[1;33m\u001b[0m\u001b[1;33m\u001b[0m\u001b[0m\n",
      "\u001b[1;31mImportError\u001b[0m: cannot import name 'GPTContext' from 'lib' (unknown location)"
     ]
    }
   ],
   "metadata": {}
  },
  {
   "cell_type": "code",
   "execution_count": null,
   "source": [
    "from src import generate, GenerationOptions\n",
    "\n",
    "options = GenerationOptions()\n",
    "input = \"The rays of the evening sun falling in through the window bathed the room in a soft, warm light\"\n",
    "new_story = generate(ctx, options, last_story_input=input)\n",
    "print(\"\\n\\n\".join([\"\".join(pair) for pair in new_story]))\n"
   ],
   "outputs": [
    {
     "output_type": "stream",
     "name": "stdout",
     "text": [
      "Generating: n_ids=21\n",
      "The rays of the evening sun falling in through the window bathed the room in a soft, warm light. The table was set with silver and crystal, a candle burned on the mantel, and wineglasses stood next to the small fire. I could smell that the scent of rosemary pervaded the air, and there was a slight whiff of lavender from my new friend's perfume.\n",
      "\n"
     ]
    }
   ],
   "metadata": {}
  }
 ],
 "metadata": {
  "orig_nbformat": 4,
  "language_info": {
   "name": "python",
   "version": "3.9.6",
   "mimetype": "text/x-python",
   "codemirror_mode": {
    "name": "ipython",
    "version": 3
   },
   "pygments_lexer": "ipython3",
   "nbconvert_exporter": "python",
   "file_extension": ".py"
  },
  "kernelspec": {
   "name": "python3",
   "display_name": "Python 3.9.6 64-bit"
  },
  "interpreter": {
   "hash": "0ac516125b3ee16d4eaa41f008fade7bad50b808bd1b6d74d2e8ae0015ba9066"
  }
 },
 "nbformat": 4,
 "nbformat_minor": 2
}